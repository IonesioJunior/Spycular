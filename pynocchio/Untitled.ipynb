{
 "cells": [
  {
   "cell_type": "code",
   "execution_count": 1,
   "id": "17924150-5271-48c1-80e0-79d682daf77a",
   "metadata": {},
   "outputs": [],
   "source": [
    "from pydantic import BaseModel\n",
    "from typing import Optional\n",
    "from IPython.display import display, HTML\n",
    "\n",
    "class MarkdownDescription(BaseModel):\n",
    "    text : str\n",
    "    \n",
    "    def _repr_markdown_(self):\n",
    "        style = \"\"\"\n",
    "        <style>\n",
    "            .jp-RenderedHTMLCommon pre {\n",
    "                background-color: #282c34 !important;\n",
    "                padding: 10px 10px 10px;\n",
    "            }\n",
    "            .jp-RenderedHTMLCommon pre code {\n",
    "                background-color: #282c34 !important;  /* Set the background color for the text in the code block */\n",
    "                color: #abb2bf !important;  /* Set text color */\n",
    "            }\n",
    "        </style>\n",
    "        \"\"\"\n",
    "        display(HTML(style))\n",
    "        return self.text\n",
    "\n",
    "class Dataset(BaseModel):\n",
    "\n",
    "    description: Optional[MarkdownDescription] = None\n",
    "    user_id: int\n",
    "    \n",
    "    def __init__(self, description: str, **data):\n",
    "        super().__init__(**data, description=MarkdownDescription(text=description))\n",
    "\n",
    "    def __setattr__(self, name, value):\n",
    "        if name == \"description\":\n",
    "            vars(self)[name] = MarkdownDescription(text=str(value))\n",
    "        else:\n",
    "            vars(self)[name] = value"
   ]
  },
  {
   "cell_type": "code",
   "execution_count": 2,
   "id": "d4891fcb-127d-46ad-8541-7c19045ca6f8",
   "metadata": {},
   "outputs": [],
   "source": [
    "description='''# MNIST Dataset\n",
    "\n",
    "## Introduction 📜\n",
    "The MNIST Dataset is a widely used dataset in machine learning and computer vision. It consists of a collection of grayscale images of handwritten digits from 0 to 9. Each image is a 28x28-pixel square, and the dataset is split into a training set and a test set. MNIST is commonly used for image classification tasks, especially for training and evaluating algorithms in the field of deep learning.\n",
    "\n",
    "## Goals 🎯\n",
    "The primary goals of the MNIST Dataset are:\n",
    "\n",
    "1. **Digit Recognition** 🔍: Enable researchers and machine learning practitioners to develop and evaluate algorithms that can accurately recognize and classify handwritten digits.\n",
    "\n",
    "2. **Benchmarking Algorithms** ⚖️: Serve as a standard benchmark dataset for evaluating the performance of various image classification algorithms, particularly neural networks and deep learning models.\n",
    "\n",
    "3. **Educational Purposes** 📚: Provide a beginner-friendly dataset for learning and understanding the fundamentals of image processing and machine learning.\n",
    "\n",
    "## Table Example 📋\n",
    "As MNIST is primarily a collection of images, the tabular representation would typically consist of metadata related to the dataset. Here's a sample table with some metadata:\n",
    "\n",
    "| Dataset_Name | Data_Source | Data_Description                          | Number_of_Images | Image_Size |\n",
    "|--------------|-------------|-------------------------------------------|------------------|------------|\n",
    "| MNIST        | Internet    | Grayscale images of handwritten digits   | 70,000           | 28x28      |\n",
    "\n",
    "## Contributors 👥\n",
    "The MNIST Dataset has been made publicly available and maintained by various contributors and researchers. It originated from the National Institute of Standards and Technology (NIST) and was later modified by Yann LeCun, Corinna Cortes, and Christopher J.C. Burges for use in machine learning.\n",
    "\n",
    "The efforts of these contributors have made the MNIST Dataset an essential resource for the machine learning community, enabling advancements in image classification and deep learning research.\n",
    "\n",
    "Please note that when using the MNIST Dataset, it's essential to adhere to the dataset's license and terms of use, and give proper attribution to the original data sources.\n",
    "\n",
    "\n",
    "## Code Snippet 🐍\n",
    "To demonstrate how to load and visualize the MNIST Dataset using Python, we can use the popular `tensorflow` library:\n",
    "`\n",
    "```python\n",
    "import tensorflow as tf\n",
    "import matplotlib.pyplot as plt\n",
    "\n",
    "# Load the MNIST dataset from TensorFlow\n",
    "mnist = tf.keras.datasets.mnist\n",
    "(train_images, train_labels), (test_images, test_labels) = mnist.load_data()\n",
    "\n",
    "# Display a sample image from the training set\n",
    "plt.imshow(train_images[0], cmap='gray')\n",
    "plt.title(f\"Label: {train_labels[0]}\")\n",
    "plt.axis('off')\n",
    "plt.show()\n",
    "```\n",
    "'''\n"
   ]
  },
  {
   "cell_type": "code",
   "execution_count": 3,
   "id": "fdc3bf9d-0da8-419d-8ce1-e82ce81169b0",
   "metadata": {},
   "outputs": [],
   "source": [
    "x = Dataset(user_id=1, description=description)"
   ]
  },
  {
   "cell_type": "code",
   "execution_count": 4,
   "id": "2feb2bd0-5417-4407-a13f-aff4d02b47aa",
   "metadata": {},
   "outputs": [
    {
     "data": {
      "text/html": [
       "\n",
       "        <style>\n",
       "            .jp-RenderedHTMLCommon pre {\n",
       "                background-color: #282c34 !important;\n",
       "                padding: 10px 10px 10px;\n",
       "            }\n",
       "            .jp-RenderedHTMLCommon pre code {\n",
       "                background-color: #282c34 !important;  /* Set the background color for the text in the code block */\n",
       "                color: #abb2bf !important;  /* Set text color */\n",
       "            }\n",
       "        </style>\n",
       "        "
      ],
      "text/plain": [
       "<IPython.core.display.HTML object>"
      ]
     },
     "metadata": {},
     "output_type": "display_data"
    },
    {
     "data": {
      "text/markdown": [
       "# MNIST Dataset\n",
       "\n",
       "## Introduction 📜\n",
       "The MNIST Dataset is a widely used dataset in machine learning and computer vision. It consists of a collection of grayscale images of handwritten digits from 0 to 9. Each image is a 28x28-pixel square, and the dataset is split into a training set and a test set. MNIST is commonly used for image classification tasks, especially for training and evaluating algorithms in the field of deep learning.\n",
       "\n",
       "## Goals 🎯\n",
       "The primary goals of the MNIST Dataset are:\n",
       "\n",
       "1. **Digit Recognition** 🔍: Enable researchers and machine learning practitioners to develop and evaluate algorithms that can accurately recognize and classify handwritten digits.\n",
       "\n",
       "2. **Benchmarking Algorithms** ⚖️: Serve as a standard benchmark dataset for evaluating the performance of various image classification algorithms, particularly neural networks and deep learning models.\n",
       "\n",
       "3. **Educational Purposes** 📚: Provide a beginner-friendly dataset for learning and understanding the fundamentals of image processing and machine learning.\n",
       "\n",
       "## Table Example 📋\n",
       "As MNIST is primarily a collection of images, the tabular representation would typically consist of metadata related to the dataset. Here's a sample table with some metadata:\n",
       "\n",
       "| Dataset_Name | Data_Source | Data_Description                          | Number_of_Images | Image_Size |\n",
       "|--------------|-------------|-------------------------------------------|------------------|------------|\n",
       "| MNIST        | Internet    | Grayscale images of handwritten digits   | 70,000           | 28x28      |\n",
       "\n",
       "## Contributors 👥\n",
       "The MNIST Dataset has been made publicly available and maintained by various contributors and researchers. It originated from the National Institute of Standards and Technology (NIST) and was later modified by Yann LeCun, Corinna Cortes, and Christopher J.C. Burges for use in machine learning.\n",
       "\n",
       "The efforts of these contributors have made the MNIST Dataset an essential resource for the machine learning community, enabling advancements in image classification and deep learning research.\n",
       "\n",
       "Please note that when using the MNIST Dataset, it's essential to adhere to the dataset's license and terms of use, and give proper attribution to the original data sources.\n",
       "\n",
       "\n",
       "## Code Snippet 🐍\n",
       "To demonstrate how to load and visualize the MNIST Dataset using Python, we can use the popular `tensorflow` library:\n",
       "`\n",
       "```python\n",
       "import tensorflow as tf\n",
       "import matplotlib.pyplot as plt\n",
       "\n",
       "# Load the MNIST dataset from TensorFlow\n",
       "mnist = tf.keras.datasets.mnist\n",
       "(train_images, train_labels), (test_images, test_labels) = mnist.load_data()\n",
       "\n",
       "# Display a sample image from the training set\n",
       "plt.imshow(train_images[0], cmap='gray')\n",
       "plt.title(f\"Label: {train_labels[0]}\")\n",
       "plt.axis('off')\n",
       "plt.show()\n",
       "```\n"
      ],
      "text/plain": [
       "MarkdownDescription(text='# MNIST Dataset\\n\\n## Introduction 📜\\nThe MNIST Dataset is a widely used dataset in machine learning and computer vision. It consists of a collection of grayscale images of handwritten digits from 0 to 9. Each image is a 28x28-pixel square, and the dataset is split into a training set and a test set. MNIST is commonly used for image classification tasks, especially for training and evaluating algorithms in the field of deep learning.\\n\\n## Goals 🎯\\nThe primary goals of the MNIST Dataset are:\\n\\n1. **Digit Recognition** 🔍: Enable researchers and machine learning practitioners to develop and evaluate algorithms that can accurately recognize and classify handwritten digits.\\n\\n2. **Benchmarking Algorithms** ⚖️: Serve as a standard benchmark dataset for evaluating the performance of various image classification algorithms, particularly neural networks and deep learning models.\\n\\n3. **Educational Purposes** 📚: Provide a beginner-friendly dataset for learning and understanding the fundamentals of image processing and machine learning.\\n\\n## Table Example 📋\\nAs MNIST is primarily a collection of images, the tabular representation would typically consist of metadata related to the dataset. Here\\'s a sample table with some metadata:\\n\\n| Dataset_Name | Data_Source | Data_Description                          | Number_of_Images | Image_Size |\\n|--------------|-------------|-------------------------------------------|------------------|------------|\\n| MNIST        | Internet    | Grayscale images of handwritten digits   | 70,000           | 28x28      |\\n\\n## Contributors 👥\\nThe MNIST Dataset has been made publicly available and maintained by various contributors and researchers. It originated from the National Institute of Standards and Technology (NIST) and was later modified by Yann LeCun, Corinna Cortes, and Christopher J.C. Burges for use in machine learning.\\n\\nThe efforts of these contributors have made the MNIST Dataset an essential resource for the machine learning community, enabling advancements in image classification and deep learning research.\\n\\nPlease note that when using the MNIST Dataset, it\\'s essential to adhere to the dataset\\'s license and terms of use, and give proper attribution to the original data sources.\\n\\n\\n## Code Snippet 🐍\\nTo demonstrate how to load and visualize the MNIST Dataset using Python, we can use the popular `tensorflow` library:\\n`\\n```python\\nimport tensorflow as tf\\nimport matplotlib.pyplot as plt\\n\\n# Load the MNIST dataset from TensorFlow\\nmnist = tf.keras.datasets.mnist\\n(train_images, train_labels), (test_images, test_labels) = mnist.load_data()\\n\\n# Display a sample image from the training set\\nplt.imshow(train_images[0], cmap=\\'gray\\')\\nplt.title(f\"Label: {train_labels[0]}\")\\nplt.axis(\\'off\\')\\nplt.show()\\n```\\n')"
      ]
     },
     "execution_count": 4,
     "metadata": {},
     "output_type": "execute_result"
    }
   ],
   "source": [
    "x.description"
   ]
  },
  {
   "cell_type": "code",
   "execution_count": 5,
   "id": "808ef8e6-e5a0-493e-8df3-954a49c7e208",
   "metadata": {},
   "outputs": [],
   "source": [
    "x.description = \"# Hello World\""
   ]
  },
  {
   "cell_type": "code",
   "execution_count": 8,
   "id": "8cb9554e-367b-498f-9d26-74e79a39acf7",
   "metadata": {},
   "outputs": [
    {
     "data": {
      "text/html": [
       "\n",
       "        <style>\n",
       "            .jp-RenderedHTMLCommon pre {\n",
       "                background-color: #282c34 !important;\n",
       "                padding: 10px 10px 10px;\n",
       "            }\n",
       "            .jp-RenderedHTMLCommon pre code {\n",
       "                background-color: #282c34 !important;  /* Set the background color for the text in the code block */\n",
       "                color: #abb2bf !important;  /* Set text color */\n",
       "            }\n",
       "        </style>\n",
       "        "
      ],
      "text/plain": [
       "<IPython.core.display.HTML object>"
      ]
     },
     "metadata": {},
     "output_type": "display_data"
    },
    {
     "data": {
      "text/markdown": [
       "# MNIST Dataset\n",
       "\n",
       "## Introduction 📜\n",
       "The MNIST Dataset is a widely used dataset in machine learning and computer vision. It consists of a collection of grayscale images of handwritten digits from 0 to 9. Each image is a 28x28-pixel square, and the dataset is split into a training set and a test set. MNIST is commonly used for image classification tasks, especially for training and evaluating algorithms in the field of deep learning.\n",
       "\n",
       "## Goals 🎯\n",
       "The primary goals of the MNIST Dataset are:\n",
       "\n",
       "1. **Digit Recognition** 🔍: Enable researchers and machine learning practitioners to develop and evaluate algorithms that can accurately recognize and classify handwritten digits.\n",
       "\n",
       "2. **Benchmarking Algorithms** ⚖️: Serve as a standard benchmark dataset for evaluating the performance of various image classification algorithms, particularly neural networks and deep learning models.\n",
       "\n",
       "3. **Educational Purposes** 📚: Provide a beginner-friendly dataset for learning and understanding the fundamentals of image processing and machine learning.\n",
       "\n",
       "## Table Example 📋\n",
       "As MNIST is primarily a collection of images, the tabular representation would typically consist of metadata related to the dataset. Here's a sample table with some metadata:\n",
       "\n",
       "| Dataset_Name | Data_Source | Data_Description                          | Number_of_Images | Image_Size |\n",
       "|--------------|-------------|-------------------------------------------|------------------|------------|\n",
       "| MNIST        | Internet    | Grayscale images of handwritten digits   | 70,000           | 28x28      |\n",
       "\n",
       "## Contributors 👥\n",
       "The MNIST Dataset has been made publicly available and maintained by various contributors and researchers. It originated from the National Institute of Standards and Technology (NIST) and was later modified by Yann LeCun, Corinna Cortes, and Christopher J.C. Burges for use in machine learning.\n",
       "\n",
       "The efforts of these contributors have made the MNIST Dataset an essential resource for the machine learning community, enabling advancements in image classification and deep learning research.\n",
       "\n",
       "Please note that when using the MNIST Dataset, it's essential to adhere to the dataset's license and terms of use, and give proper attribution to the original data sources.\n",
       "\n",
       "\n",
       "## Code Snippet 🐍\n",
       "To demonstrate how to load and visualize the MNIST Dataset using Python, we can use the popular `tensorflow` library:\n",
       "`\n",
       "```python\n",
       "import tensorflow as tf\n",
       "import matplotlib.pyplot as plt\n",
       "\n",
       "# Load the MNIST dataset from TensorFlow\n",
       "mnist = tf.keras.datasets.mnist\n",
       "(train_images, train_labels), (test_images, test_labels) = mnist.load_data()\n",
       "\n",
       "# Display a sample image from the training set\n",
       "plt.imshow(train_images[0], cmap='gray')\n",
       "plt.title(f\"Label: {train_labels[0]}\")\n",
       "plt.axis('off')\n",
       "plt.show()\n",
       "```\n"
      ],
      "text/plain": [
       "MarkdownDescription(text='# MNIST Dataset\\n\\n## Introduction 📜\\nThe MNIST Dataset is a widely used dataset in machine learning and computer vision. It consists of a collection of grayscale images of handwritten digits from 0 to 9. Each image is a 28x28-pixel square, and the dataset is split into a training set and a test set. MNIST is commonly used for image classification tasks, especially for training and evaluating algorithms in the field of deep learning.\\n\\n## Goals 🎯\\nThe primary goals of the MNIST Dataset are:\\n\\n1. **Digit Recognition** 🔍: Enable researchers and machine learning practitioners to develop and evaluate algorithms that can accurately recognize and classify handwritten digits.\\n\\n2. **Benchmarking Algorithms** ⚖️: Serve as a standard benchmark dataset for evaluating the performance of various image classification algorithms, particularly neural networks and deep learning models.\\n\\n3. **Educational Purposes** 📚: Provide a beginner-friendly dataset for learning and understanding the fundamentals of image processing and machine learning.\\n\\n## Table Example 📋\\nAs MNIST is primarily a collection of images, the tabular representation would typically consist of metadata related to the dataset. Here\\'s a sample table with some metadata:\\n\\n| Dataset_Name | Data_Source | Data_Description                          | Number_of_Images | Image_Size |\\n|--------------|-------------|-------------------------------------------|------------------|------------|\\n| MNIST        | Internet    | Grayscale images of handwritten digits   | 70,000           | 28x28      |\\n\\n## Contributors 👥\\nThe MNIST Dataset has been made publicly available and maintained by various contributors and researchers. It originated from the National Institute of Standards and Technology (NIST) and was later modified by Yann LeCun, Corinna Cortes, and Christopher J.C. Burges for use in machine learning.\\n\\nThe efforts of these contributors have made the MNIST Dataset an essential resource for the machine learning community, enabling advancements in image classification and deep learning research.\\n\\nPlease note that when using the MNIST Dataset, it\\'s essential to adhere to the dataset\\'s license and terms of use, and give proper attribution to the original data sources.\\n\\n\\n## Code Snippet 🐍\\nTo demonstrate how to load and visualize the MNIST Dataset using Python, we can use the popular `tensorflow` library:\\n`\\n```python\\nimport tensorflow as tf\\nimport matplotlib.pyplot as plt\\n\\n# Load the MNIST dataset from TensorFlow\\nmnist = tf.keras.datasets.mnist\\n(train_images, train_labels), (test_images, test_labels) = mnist.load_data()\\n\\n# Display a sample image from the training set\\nplt.imshow(train_images[0], cmap=\\'gray\\')\\nplt.title(f\"Label: {train_labels[0]}\")\\nplt.axis(\\'off\\')\\nplt.show()\\n```\\n')"
      ]
     },
     "execution_count": 8,
     "metadata": {},
     "output_type": "execute_result"
    }
   ],
   "source": [
    "x.description"
   ]
  }
 ],
 "metadata": {
  "kernelspec": {
   "display_name": "Python 3 (ipykernel)",
   "language": "python",
   "name": "python3"
  },
  "language_info": {
   "codemirror_mode": {
    "name": "ipython",
    "version": 3
   },
   "file_extension": ".py",
   "mimetype": "text/x-python",
   "name": "python",
   "nbconvert_exporter": "python",
   "pygments_lexer": "ipython3",
   "version": "3.10.8"
  }
 },
 "nbformat": 4,
 "nbformat_minor": 5
}
